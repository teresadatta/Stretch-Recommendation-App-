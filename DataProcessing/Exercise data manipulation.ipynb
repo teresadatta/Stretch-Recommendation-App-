{
 "cells": [
  {
   "cell_type": "code",
   "execution_count": 1,
   "metadata": {
    "collapsed": true
   },
   "outputs": [],
   "source": [
    "import json"
   ]
  },
  {
   "cell_type": "code",
   "execution_count": 3,
   "metadata": {
    "collapsed": false
   },
   "outputs": [
    {
     "data": {
      "text/html": [
       "<div>\n",
       "<table border=\"1\" class=\"dataframe\">\n",
       "  <thead>\n",
       "    <tr style=\"text-align: right;\">\n",
       "      <th></th>\n",
       "      <th>Abductors</th>\n",
       "      <th>Adductors</th>\n",
       "      <th>Arms and Chest</th>\n",
       "      <th>Back and Sides</th>\n",
       "      <th>Hamstrings</th>\n",
       "      <th>Hips and Buttocks</th>\n",
       "      <th>Lower Calves and Achilles</th>\n",
       "      <th>Neck and Shoulders</th>\n",
       "      <th>Quadriceps</th>\n",
       "      <th>Shins, Ankles, Feet and Toes</th>\n",
       "      <th>Stomach</th>\n",
       "      <th>Upper Calves</th>\n",
       "    </tr>\n",
       "  </thead>\n",
       "  <tbody>\n",
       "    <tr>\n",
       "      <th>description</th>\n",
       "      <td>[I01 - Standing Hip-out Abductor Stretch: Stan...</td>\n",
       "      <td>[H01 - Sitting Feet-together Adductor Stretch:...</td>\n",
       "      <td>[B01 - Above Head Chest Stretch: Stand upright...</td>\n",
       "      <td>[D01 - Reach Forward Upper Back Stretch: Stand...</td>\n",
       "      <td>[G01 - Sitting Reach-forward Hamstring Stretch...</td>\n",
       "      <td>[E01 - Lying Cross-over Knee Pull-down Stretch...</td>\n",
       "      <td>[K01 - Standing Toe-up Achilles Stretch: Stand...</td>\n",
       "      <td>[A01 - Lateral Neck Stretch:  Look  forward  w...</td>\n",
       "      <td>[F01 - Kneeling Quad Stretch:  Kneel  on  one ...</td>\n",
       "      <td>[L01 - Foot-behind Shin Stretch: Stand upright...</td>\n",
       "      <td>[C01 - On Elbows Stomach Stretch: Lie  face  d...</td>\n",
       "      <td>[J01 - Standing Toe-up Calf Stretch: Stand upr...</td>\n",
       "    </tr>\n",
       "    <tr>\n",
       "      <th>muscles</th>\n",
       "      <td>[gluteus medius, gluteus mininus, tensor fasci...</td>\n",
       "      <td>[adductor brevis, adductor longus, adductor ma...</td>\n",
       "      <td>[biceps brachii, brachialis, brachioradialis, ...</td>\n",
       "      <td>[iliocostalis cervicis, iliocostalis thoracis,...</td>\n",
       "      <td>[biceps femoris, semimembranosus, semitendinosis]</td>\n",
       "      <td>[gemellus superior and inferior, gluteus maxim...</td>\n",
       "      <td>[flexor digitorum longus, flexor hallucis long...</td>\n",
       "      <td>[deltoid anterior, medius, posterior, infraspi...</td>\n",
       "      <td>[]</td>\n",
       "      <td>[abductor digiti minimi, abductor hallucis, ad...</td>\n",
       "      <td>[obliques external and internal, transversus a...</td>\n",
       "      <td>[gastrocnemius, plantaris]</td>\n",
       "    </tr>\n",
       "    <tr>\n",
       "      <th>sports</th>\n",
       "      <td>[hiking, backpacking, mountaineering, orientee...</td>\n",
       "      <td>[cycling, hiking, backpacking, mountaineering,...</td>\n",
       "      <td>[basketball, netball, batting  sports, cricket...</td>\n",
       "      <td>[basketball, netball, batting  sports, cricket...</td>\n",
       "      <td>[cycling, hiking, backpacking, mountaineering,...</td>\n",
       "      <td>[]</td>\n",
       "      <td>[boxing, cycling, hiking, backpacking, mountai...</td>\n",
       "      <td>[]</td>\n",
       "      <td>[]</td>\n",
       "      <td>[boxing, cycling, hiking, backpacking, mountai...</td>\n",
       "      <td>[batting  sports, cricket, baseball, softball,...</td>\n",
       "      <td>[boxing, cycling, hiking, backpacking, mountai...</td>\n",
       "    </tr>\n",
       "  </tbody>\n",
       "</table>\n",
       "</div>"
      ],
      "text/plain": [
       "                                                     Abductors  \\\n",
       "description  [I01 - Standing Hip-out Abductor Stretch: Stan...   \n",
       "muscles      [gluteus medius, gluteus mininus, tensor fasci...   \n",
       "sports       [hiking, backpacking, mountaineering, orientee...   \n",
       "\n",
       "                                                     Adductors  \\\n",
       "description  [H01 - Sitting Feet-together Adductor Stretch:...   \n",
       "muscles      [adductor brevis, adductor longus, adductor ma...   \n",
       "sports       [cycling, hiking, backpacking, mountaineering,...   \n",
       "\n",
       "                                                Arms and Chest  \\\n",
       "description  [B01 - Above Head Chest Stretch: Stand upright...   \n",
       "muscles      [biceps brachii, brachialis, brachioradialis, ...   \n",
       "sports       [basketball, netball, batting  sports, cricket...   \n",
       "\n",
       "                                                Back and Sides  \\\n",
       "description  [D01 - Reach Forward Upper Back Stretch: Stand...   \n",
       "muscles      [iliocostalis cervicis, iliocostalis thoracis,...   \n",
       "sports       [basketball, netball, batting  sports, cricket...   \n",
       "\n",
       "                                                    Hamstrings  \\\n",
       "description  [G01 - Sitting Reach-forward Hamstring Stretch...   \n",
       "muscles      [biceps femoris, semimembranosus, semitendinosis]   \n",
       "sports       [cycling, hiking, backpacking, mountaineering,...   \n",
       "\n",
       "                                             Hips and Buttocks  \\\n",
       "description  [E01 - Lying Cross-over Knee Pull-down Stretch...   \n",
       "muscles      [gemellus superior and inferior, gluteus maxim...   \n",
       "sports                                                      []   \n",
       "\n",
       "                                     Lower Calves and Achilles  \\\n",
       "description  [K01 - Standing Toe-up Achilles Stretch: Stand...   \n",
       "muscles      [flexor digitorum longus, flexor hallucis long...   \n",
       "sports       [boxing, cycling, hiking, backpacking, mountai...   \n",
       "\n",
       "                                            Neck and Shoulders  \\\n",
       "description  [A01 - Lateral Neck Stretch:  Look  forward  w...   \n",
       "muscles      [deltoid anterior, medius, posterior, infraspi...   \n",
       "sports                                                      []   \n",
       "\n",
       "                                                    Quadriceps  \\\n",
       "description  [F01 - Kneeling Quad Stretch:  Kneel  on  one ...   \n",
       "muscles                                                     []   \n",
       "sports                                                      []   \n",
       "\n",
       "                                  Shins, Ankles, Feet and Toes  \\\n",
       "description  [L01 - Foot-behind Shin Stretch: Stand upright...   \n",
       "muscles      [abductor digiti minimi, abductor hallucis, ad...   \n",
       "sports       [boxing, cycling, hiking, backpacking, mountai...   \n",
       "\n",
       "                                                       Stomach  \\\n",
       "description  [C01 - On Elbows Stomach Stretch: Lie  face  d...   \n",
       "muscles      [obliques external and internal, transversus a...   \n",
       "sports       [batting  sports, cricket, baseball, softball,...   \n",
       "\n",
       "                                                  Upper Calves  \n",
       "description  [J01 - Standing Toe-up Calf Stretch: Stand upr...  \n",
       "muscles                             [gastrocnemius, plantaris]  \n",
       "sports       [boxing, cycling, hiking, backpacking, mountai...  "
      ]
     },
     "execution_count": 3,
     "metadata": {},
     "output_type": "execute_result"
    }
   ],
   "source": [
    "import pandas as pd\n",
    "\n",
    "df = pd.read_json('exercise.json')\n",
    "\n",
    "df"
   ]
  },
  {
   "cell_type": "code",
   "execution_count": 11,
   "metadata": {
    "collapsed": false
   },
   "outputs": [],
   "source": [
    "bp_dict = {'Abductors': ['abs', 'abductors'], 'Adductors': ['adductors'], 'Arms and Chest': ['arms', 'chest'], \n",
    "           'Back and Sides': ['back', 'sides', 'lower-back'], 'Hamstrings': ['hamstrings'], 'Hips and Buttocks': ['hips', 'buttocks', 'glutes', 'pelvis'],\n",
    "          'Lower Calves and Achilles' : ['calves', 'legs', 'achilles'], 'Neck and Shoulders':['neck', 'shoulders'], 'Quadriceps':['quads', 'legs'], 'Shins, Ankles, Feet and Toes':['shins', 'ankles', 'feet', 'toes'], \n",
    "          'Stomach': ['stomach', 'abs'], 'Upper Calves': ['calves', 'legs']}\n",
    "\n"
   ]
  },
  {
   "cell_type": "code",
   "execution_count": 12,
   "metadata": {
    "collapsed": false
   },
   "outputs": [],
   "source": [
    "body_parts = ['abs', 'ankles', 'arms', 'back', 'belly', 'bladder', 'brain', 'chest', 'feet', 'glutes', 'hamstrings', 'hands', 'heart', 'hips', 'knees', 'legs', 'liver', 'lower-back', 'lungs', 'neck', 'pelvis', 'shoulders', 'spine', 'thyroid', 'thighs']\n"
   ]
  },
  {
   "cell_type": "code",
   "execution_count": 26,
   "metadata": {
    "collapsed": false
   },
   "outputs": [],
   "source": [
    "ex_dict = df.to_dict('series')"
   ]
  },
  {
   "cell_type": "code",
   "execution_count": 42,
   "metadata": {
    "collapsed": false
   },
   "outputs": [],
   "source": [
    "new_ex_dict = {}"
   ]
  },
  {
   "cell_type": "code",
   "execution_count": 43,
   "metadata": {
    "collapsed": false
   },
   "outputs": [],
   "source": [
    "for x in ex_dict.keys():\n",
    "    poses = ex_dict[x]['description'] \n",
    "    bp_for_dict = bp_dict[x]\n",
    "    for pose in poses: \n",
    "        posestr= str(pose)\n",
    "        list_a = posestr.split(\"-\")\n",
    "        img = list_a[0].strip() + \".png\"\n",
    "        relevant = \"-\".join(list_a[1:])\n",
    "        list_b = relevant.split(\":\")\n",
    "        name = list_b[0].strip()\n",
    "        \n",
    "        description = (\":\".join(list_b[1:])).strip()\n",
    "        new_ex_dict[name] = {\n",
    "            \"body_part\": bp_for_dict, \n",
    "            \"url\": \"None\", \n",
    "            \"image_name\": img, \n",
    "            \"description\": [description]\n",
    "        }"
   ]
  },
  {
   "cell_type": "code",
   "execution_count": 44,
   "metadata": {
    "collapsed": false
   },
   "outputs": [
    {
     "data": {
      "text/plain": [
       "'{\"Kneeling Back-arch Stretch\": {\"url\": \"None\", \"body_part\": [\"back\", \"sides\", \"lower-back\"], \"image_name\": \"D11.png\", \"description\": [\"Kneel on your hands and knees. Let your head fall forward and arch your back upwards.\"]}, \"Rising Stomach Stretch\": {\"url\": \"None\", \"body_part\": [\"stomach\", \"abs\"], \"image_name\": \"C02.png\", \"description\": [\"Lie face down and bring your hands close to your shoulders.  Keep  your  hips  on  the  ground,  look  forward  and  rise  up  by straightening your arms.\"]}, \"Palms-out Forearm Stretch\": {\"url\": \"None\", \"body_part\": [\"arms\", \"chest\"], \"image_name\": \"B12.png\", \"description\": [\"Interlock  your  fingers  in  front  of  your  chest, then  straighten  your  arms  and  turn  the  palms  of  your  hands  so  that  they face outwards.\"]}, \"Leaning Heel-back Calf Stretch\": {\"url\": \"None\", \"body_part\": [\"calves\", \"legs\"], \"image_name\": \"J06.png\", \"description\": [\"Reach towards a wall and place one foot as far  from  the  wall  as  is  comfortable.  Make  sure  that  both  toes  are  pointing forward  and  your  heel  is  on  the  ground.  Keep  your  back  leg  straight  and lean towards the wall.\"]}, \"Lying Leg-hang Abductor Stretch\": {\"url\": \"None\", \"body_part\": [\"abs\", \"abductors\"], \"image_name\": \"I07.png\", \"description\": [\"Lie on your side on a bench, let your top leg fall forward and off the side of the bench.\"]}, \"Arm-down  Rotator  Stretch\": {\"url\": \"None\", \"body_part\": [\"neck\", \"shoulders\"], \"image_name\": \"A15.png\", \"description\": [\"Stand  with  your  arm  out  and  your  forearm pointing  downwards  at  90  degrees.  Place  a  broom  stick  in  your  hand  and behind  your  elbow.  With  your  other  hand  pull  the  top  of  the  broom  stick forward.\"]}, \"Kneeling Toe-up Hamstring Stretch\": {\"url\": \"None\", \"body_part\": [\"hamstrings\"], \"image_name\": \"G10.png\", \"description\": [\"Kneel on one knee and place your other leg straight forward with your heel on the ground. Keep your back straight and  point  your  toes  upwards.  Reach  towards  your  toes  with  one  or  both hand.\"]}, \"Fingers-down Forearm Stretch\": {\"url\": \"None\", \"body_part\": [\"arms\", \"chest\"], \"image_name\": \"B13.png\", \"description\": [\"Hold onto your fingers and turn your palms outwards.  Straighten  your  arm  and  then  pull  your  fingers  back  using  your other hand.\"]}, \"Sitting Wide-leg Adductor Stretch\": {\"url\": \"None\", \"body_part\": [\"adductors\"], \"image_name\": \"H07.png\", \"description\": [\"Sit on the ground with your legs straight out and as wide apart as possible and then reach forward while keeping your back straight.\"]}, \"Seated Partner Assisted Chest Stretch\": {\"url\": \"None\", \"body_part\": [\"arms\", \"chest\"], \"image_name\": \"B03.png\", \"description\": [\"Sit on the ground and have a partner stand  behind  you.  Reach  behind  with  both  arms  and  have  the  partner further extend your arms.\"]}, \"Lying Whole Body Stretch\": {\"url\": \"None\", \"body_part\": [\"back\", \"sides\", \"lower-back\"], \"image_name\": \"D04.png\", \"description\": [\"Lie on your back and extend your arms behind you.  Keep  your  toes  pointing  upwards  and  lengthen  your  body  as  much  as you can.\"]}, \"Standing  Lean-back  Side  Stomach  Stretch\": {\"url\": \"None\", \"body_part\": [\"stomach\", \"abs\"], \"image_name\": \"C05.png\", \"description\": [\"Stand  upright  with  your  feet shoulder  width  apart  and  place  one  hand  of  your  buttocks.  Look  up  and slowly lean backwards at the waist, then reach over with your opposite hand and rotate at the waist.\"]}, \"Cross-over Shoulder Stretch\": {\"url\": \"None\", \"body_part\": [\"neck\", \"shoulders\"], \"image_name\": \"A11.png\", \"description\": [\"Stand with your knees bent. Cross your arms over  and  grab  the  back  of  your  knees,  then start  to  rise  upwards  until  you feel tension in your upper back and shoulders.\"]}, \"Standing Knee-to-chest Stretch\": {\"url\": \"None\", \"body_part\": [\"back\", \"sides\", \"lower-back\"], \"image_name\": \"D07.png\", \"description\": [\"While standing, use your hands to bring one knee into your chest.\"]}, \"Sitting Toe-pull Achilles Stretch\": {\"url\": \"None\", \"body_part\": [\"calves\", \"legs\", \"achilles\"], \"image_name\": \"K05.png\", \"description\": [\"Sit on the ground with your knees slightly bent. Hold onto  your toes with your hands and pull  your toes towards your body.\"]}, \"Sitting Lateral Side Stretch\": {\"url\": \"None\", \"body_part\": [\"back\", \"sides\", \"lower-back\"], \"image_name\": \"D23.png\", \"description\": [\"Sit on a chair with your feet flat on the ground, then slowly bend to the left or right while reaching towards the ground. Do\\\\nnot bend forward.\"]}, \"Sitting Toe-pull Calf Stretch\": {\"url\": \"None\", \"body_part\": [\"calves\", \"legs\"], \"image_name\": \"J08.png\", \"description\": [\"Sit with one leg straight out in front and your toes pointing upwards. Reach forward and pull your toes back towards your body.\"]}, \"Bent Arm Chest Stretch\": {\"url\": \"None\", \"body_part\": [\"arms\", \"chest\"], \"image_name\": \"B05.png\", \"description\": [\"Stand with your arm extended and your forearm pointing  up  at  90  degrees.  Rest  your  forearm  against  an  immovable  object and then turn your shoulders and body away from your extended arm.\"]}, \"Lying  Bent  Knee  Hamstring  Stretch\": {\"url\": \"None\", \"body_part\": [\"hamstrings\"], \"image_name\": \"G08.png\", \"description\": [\"Lie  on  your  back  and  bend  one  leg slightly. Pull the other knee towards your chest and  then slowly straighten your raised leg.\"]}, \"Thumb Stretch\": {\"url\": \"None\", \"body_part\": [\"arms\", \"chest\"], \"image_name\": \"B15.png\", \"description\": [\"Start with your fingers pointing up and your thumb out to one side, then use your other hand to pull your thumb down.\"]}, \"Reaching Upper Back Stretch\": {\"url\": \"None\", \"body_part\": [\"back\", \"sides\", \"lower-back\"], \"image_name\": \"D02.png\", \"description\": [\"Sit in a squatting position while facing a door edge   or   pole,   then   hold   onto   the   door   edge   with   one   hand   and   lean backwards away from the door.\"]}, \"Kneeling Face-down Adductor Stretch\": {\"url\": \"None\", \"body_part\": [\"adductors\"], \"image_name\": \"H06.png\", \"description\": [\"Kneel face down with your knees and toes facing out. Lean forward and let your knees move outwards.\"]}, \"Standing Hip-out Abductor Stretch\": {\"url\": \"None\", \"body_part\": [\"abs\", \"abductors\"], \"image_name\": \"I01.png\", \"description\": [\"Stand upright beside a chair or table with both  feet  together.  Lean  your  upper  body  towards  the  chair  while  pushing your hips away from the chair. Keep your outside leg straight and bend your inside leg slightly.\"]}, \"Lateral Neck Stretch\": {\"url\": \"None\", \"body_part\": [\"neck\", \"shoulders\"], \"image_name\": \"A01.png\", \"description\": [\"Look  forward  while  keeping  your  head  up.  Slowly move your ear towards your shoulder while keeping your hands behind your back.\"]}, \"Arm-up  Rotator  Stretch\": {\"url\": \"None\", \"body_part\": [\"neck\", \"shoulders\"], \"image_name\": \"A14.png\", \"description\": [\"Stand  with  your  arm  out  and  your  forearm pointing  upwards  at  90  degrees.  Place  a  broom  stick  in  your  hand  and behind your elbow. With your other hand pull the bottom of the broom stick forward.\"]}, \"Sitting Knee-to-chest Buttocks Stretch\": {\"url\": \"None\", \"body_part\": [\"hips\", \"buttocks\", \"glutes\", \"pelvis\"], \"image_name\": \"E09.png\", \"description\": [\"Sit with one leg straight and the other leg  crossed  over  your  knee.  Pull  the  raised  knee  towards  your  opposite shoulder   while   keeping   your   back   straight   and   your   shoulders   facing forward.\"]}, \"Standing High-leg Bent Knee Hamstring Stretch\": {\"url\": \"None\", \"body_part\": [\"hamstrings\"], \"image_name\": \"G13.png\", \"description\": [\"Stand  with  one  foot  raised onto a table. Keep your leg bent and lean your chest into your bent knee.\"]}, \"Assisted Reverse Shoulder Stretch\": {\"url\": \"None\", \"body_part\": [\"neck\", \"shoulders\"], \"image_name\": \"A17.png\", \"description\": [\"Stand upright with your back towards a table or bench and place your hands on the edge of the table or bench. Keep\\\\nyour arms straight and slowly lower your entire body.\"]}, \"Squatting Toe Stretch\": {\"url\": \"None\", \"body_part\": [\"shins\", \"ankles\", \"feet\", \"toes\"], \"image_name\": \"L05.png\", \"description\": [\"Kneel  on  one  foot  with  your  hands  on  the  ground. Keep the toes of your rear foot on the ground, slowly lean forward and arch your foot.\"]}, \"Standing Toe-up Hamstring Stretch\": {\"url\": \"None\", \"body_part\": [\"hamstrings\"], \"image_name\": \"G03.png\", \"description\": [\"Stand with one knee bent and the other leg  straight  out  in  front.  Point  your  toes  upwards  and  lean  forward.  Keep your back straight and rest your hands on your bent knee.\"]}, \"Rotating Neck Stretch\": {\"url\": \"None\", \"body_part\": [\"neck\", \"shoulders\"], \"image_name\": \"A02.png\", \"description\": [\"Stand  upright  while  keeping  your  shoulders  still and your head up, then slowly rotate your chin towards your shoulder.\"]}, \"Double Lean-back Quad Stretch\": {\"url\": \"None\", \"body_part\": [\"quads\", \"legs\"], \"image_name\": \"F07.png\", \"description\": [\"Sit  on  the  ground,  bend  both  knees  and place your feet next to your buttocks. Then slowly lean backwards.\"]}, \"Kneeling  Back  Rotation  Stretch\": {\"url\": \"None\", \"body_part\": [\"back\", \"sides\", \"lower-back\"], \"image_name\": \"D13.png\", \"description\": [\"Kneel  on  the  ground  and  raise  one  arm upwards while rotating your shoulders and middle back.\"]}, \"Single Heel-drop Achilles Stretch\": {\"url\": \"None\", \"body_part\": [\"calves\", \"legs\", \"achilles\"], \"image_name\": \"K02.png\", \"description\": [\"Stand on a raised object or step and place the ball of one of your feet on the edge of the step. Bend your  knee slightly and let your heel drop towards the ground.\"]}, \"Standing Back Rotation Stretch\": {\"url\": \"None\", \"body_part\": [\"back\", \"sides\", \"lower-back\"], \"image_name\": \"D14.png\", \"description\": [\"Stand with your feet shoulder width apart. Place  your hands across  your  chest  while  keeping  your  back  and  shoulders upright. Slowly rotate your shoulders to one side.\"]}, \"Standing Leg-cross Abductor Stretch\": {\"url\": \"None\", \"body_part\": [\"abs\", \"abductors\"], \"image_name\": \"I02.png\", \"description\": [\"Stand upright and cross one foot behind the other. Lean towards the foot that is behind the other.\"]}, \"Sitting Bent-over Back Stretch\": {\"url\": \"None\", \"body_part\": [\"back\", \"sides\", \"lower-back\"], \"image_name\": \"D05.png\", \"description\": [\"Sit on the ground with your legs straight out in  front  or  at  45  degrees  apart.  Keep  your  toes  pointing  upwards  and  rest your  arms  by  your  side  or  on  your  lap.  Relax  your  back  and  neck  and  let your head and chest fall forward.\"]}, \"Reaching-down Triceps Stretch\": {\"url\": \"None\", \"body_part\": [\"arms\", \"chest\"], \"image_name\": \"B09.png\", \"description\": [\"Reach  behind  your  head  with  both  hands and  your  elbows  pointing  upwards.  Then  reach  down  your  back  with  your hands.\"]}, \"Reverse Shoulder Stretch\": {\"url\": \"None\", \"body_part\": [\"neck\", \"shoulders\"], \"image_name\": \"A16.png\", \"description\": [\"Stand  upright  and  clasp  your  hands  together behind  your  back.  Keep  your  arms  straight  and  slowly  lift  your  hands upward.\"]}, \"Lying Leg Tuck Hip Stretch\": {\"url\": \"None\", \"body_part\": [\"hips\", \"buttocks\", \"glutes\", \"pelvis\"], \"image_name\": \"E02.png\", \"description\": [\"Lie  face  down  and  bend  one  leg  under  your stomach. Lean towards the ground.\"]}, \"Standing  Toe-down Hamstring  Stretch\": {\"url\": \"None\", \"body_part\": [\"hamstrings\"], \"image_name\": \"G02.png\", \"description\": [\"Stand  with  one  knee  bent  and  the other leg straight out in front. Point your toes towards the ground and lean forward. Keep your back straight and rest your hands on your bent knee.\"]}, \"Rotating Wrist Stretch\": {\"url\": \"None\", \"body_part\": [\"arms\", \"chest\"], \"image_name\": \"B17.png\", \"description\": [\"Place one arm straight out in front and parallel to the  ground. Rotate  your wrist down and outwards and then use  your other\\\\nhand to further rotate your hand upwards.\"]}, \"Standing Rotational Hip Stretch\": {\"url\": \"None\", \"body_part\": [\"hips\", \"buttocks\", \"glutes\", \"pelvis\"], \"image_name\": \"E06.png\", \"description\": [\"Stand  beside  a  table  and  raise  your  lower leg out to the side and up onto the table. Then slowly lower your body.\"]}, \"Lying Straight Knee Hamstring Stretch\": {\"url\": \"None\", \"body_part\": [\"hamstrings\"], \"image_name\": \"G09.png\", \"description\": [\"Lie on your back and  keep your legs straight. Raise one leg and pull it towards your chest.\"]}, \"Single Heel-drop Calf Stretch\": {\"url\": \"None\", \"body_part\": [\"calves\", \"legs\"], \"image_name\": \"J03.png\", \"description\": [\"Stand on a raised object or step. Put the  ball of one foot on the edge of the step and keep your leg straight. Let your heel drop towards the ground.\"]}, \"Standing Leg-up Toe-in Hamstring Stretch\": {\"url\": \"None\", \"body_part\": [\"hamstrings\"], \"image_name\": \"G05.png\", \"description\": [\"Stand upright and raise one leg on to an object. Keep that leg straight and point your toes upwards. Then point the toes of your other foot inward and lean forward while keeping your back straight.\"]}, \"Sitting Single Leg Hamstring Stretch\": {\"url\": \"None\", \"body_part\": [\"hamstrings\"], \"image_name\": \"G06.png\", \"description\": [\"Sit  with  one  leg  straight  out  in  front and  point  your  toes  upwards.  Bring  your  other  foot  towards  your  knee  and reach towards your toes with both hands.\"]}, \"Standing  Heel-back  Calf  Stretch\": {\"url\": \"None\", \"body_part\": [\"calves\", \"legs\"], \"image_name\": \"J05.png\", \"description\": [\"Stand  upright  and  take  one  big  step backwards.  Keep  your  back  leg  straight,  your  toes  pointing  forward  and push your heel to the ground.\"]}, \"Kneeling Chest Stretch\": {\"url\": \"None\", \"body_part\": [\"arms\", \"chest\"], \"image_name\": \"B08.png\", \"description\": [\"Kneel on the floor in front of a chair or table and interlock your forearms above your head. Place your arms on the object and lower your upper body toward the ground.\"]}, \"Assisted Reverse Chest Stretch\": {\"url\": \"None\", \"body_part\": [\"arms\", \"chest\"], \"image_name\": \"B06.png\", \"description\": [\"Stand  upright  with  your  back  towards  a table or bench and place your hands on the edge of the table or bench. Bend your arms and slowly lower your entire body.\"]}, \"Diagonal Flexion Neck Stretch\": {\"url\": \"None\", \"body_part\": [\"neck\", \"shoulders\"], \"image_name\": \"A04.png\", \"description\": [\"Stand upright and let your chin fall forward towards your chest. Then gently lean your head to one side.\"]}, \"Kneeling Quad Stretch\": {\"url\": \"None\", \"body_part\": [\"quads\", \"legs\"], \"image_name\": \"F01.png\", \"description\": [\"Kneel  on  one  foot  and  the  other  knee.  If  needed, hold on to something to keep your balance and then push your hips forward.\"]}, \"Standing Reach-down Hamstring Stretch\": {\"url\": \"None\", \"body_part\": [\"hamstrings\"], \"image_name\": \"G15.png\", \"description\": [\"Stand with your feet shoulder width apart. Bend forward and reach towards the ground.\"]}, \"Standing  Reach-up  Back  Rotation  Stretch\": {\"url\": \"None\", \"body_part\": [\"back\", \"sides\", \"lower-back\"], \"image_name\": \"D15.png\", \"description\": [\"Stand  with  your  feet  shoulder width apart. Place your hands above your head while keeping your back and shoulders upright. Slowly rotate your back and shoulders to one side.\"]}, \"Parallel Arm Chest Stretch\": {\"url\": \"None\", \"body_part\": [\"arms\", \"chest\"], \"image_name\": \"B04.png\", \"description\": [\"Stand with your arm extended to the rear and parallel  to  the  ground. Hold on to  an immovable  object and then turn your shoulders and body away from your outstretched arm.\"]}, \"On Elbows Stomach Stretch\": {\"url\": \"None\", \"body_part\": [\"stomach\", \"abs\"], \"image_name\": \"C01.png\", \"description\": [\"Lie  face  down  and  bring  your  hands  close  to your shoulders. Keep your hips on the ground, look forward and rise up onto your elbows.\"]}, \"Double Heel-drop Calf Stretch\": {\"url\": \"None\", \"body_part\": [\"calves\", \"legs\"], \"image_name\": \"J04.png\", \"description\": [\"Stand on a raised object or step. Put the balls of  both  feet  on  the  edge  of  the  step  and  keep  your  legs  straight.  Let  your heels drop towards the ground.\"]}, \"Standing Lateral Side Stretch\": {\"url\": \"None\", \"body_part\": [\"back\", \"sides\", \"lower-back\"], \"image_name\": \"D21.png\", \"description\": [\"Stand  with  your  feet  about  shoulder  width apart and look forward. Keep your body upright and slowly bend to the left or right. Reach down your leg with your hand and do not bend forward.\"]}, \"Kneeling  Forearm  Stretch\": {\"url\": \"None\", \"body_part\": [\"arms\", \"chest\"], \"image_name\": \"B11.png\", \"description\": [\"While   crouching  on   your  knees   with   your forearms   facing   forward   and   hands   pointing   backwards,   slowly   move rearward.\"]}, \"Standing Quad Stretch\": {\"url\": \"None\", \"body_part\": [\"quads\", \"legs\"], \"image_name\": \"F02.png\", \"description\": [\"Stand upright while balancing on one leg. Pull your other  foot  up  behind  your  buttocks  and  keep  your  knees  together  while pushing your hips forward. Hold on to something for balance if needed.\"]}, \"Sitting  Cross-legged  Reach  Forward  Stretch\": {\"url\": \"None\", \"body_part\": [\"hips\", \"buttocks\", \"glutes\", \"pelvis\"], \"image_name\": \"E07.png\", \"description\": [\"Sit  with  you  legs  crossed  and your knees out, then gently reach forward.\"]}, \"Standing Leg-under Abductor Stretch\": {\"url\": \"None\", \"body_part\": [\"abs\", \"abductors\"], \"image_name\": \"I04.png\", \"description\": [\"While standing lean forward and hold onto a chair or bench to  help with balance. Cross one  foot behind the other and slide that foot to the side. Keep your leg straight and slowly bend your front leg to lower your body.\"]}, \"Reaching-up Shoulder Stretch\": {\"url\": \"None\", \"body_part\": [\"neck\", \"shoulders\"], \"image_name\": \"A12.png\", \"description\": [\"Place  one  hand  behind  your  back  and  then reach up between your shoulder blades.\"]}, \"Foot-behind Shin Stretch\": {\"url\": \"None\", \"body_part\": [\"shins\", \"ankles\", \"feet\", \"toes\"], \"image_name\": \"L01.png\", \"description\": [\"Stand upright and place  the  top of your toes on the ground behind you. Push your ankle to the ground.\"]}, \"Kneeling Heel-down Achilles Stretch\": {\"url\": \"None\", \"body_part\": [\"calves\", \"legs\", \"achilles\"], \"image_name\": \"K07.png\", \"description\": [\"Kneel on one foot and place your body weight over your knee. Keep your heel on the ground and lean forward.\"]}, \"Reach-up Back Stretch\": {\"url\": \"None\", \"body_part\": [\"back\", \"sides\", \"lower-back\"], \"image_name\": \"D03.png\", \"description\": [\"Stand with your arms crossed over and then raise them  above  your head. Let your  head fall  forward and reach up  as high  as you can.\"]}, \"Standing Toe Raised Calf Stretch\": {\"url\": \"None\", \"body_part\": [\"calves\", \"legs\"], \"image_name\": \"J02.png\", \"description\": [\"Stand with one knee bent and the other leg straight out in front. Point your toes  upwards  and lean forward. Keep your back straight and rest your hands on your bent knee.\"]}, \"Leaning Heel-back Achilles Stretch\": {\"url\": \"None\", \"body_part\": [\"calves\", \"legs\", \"achilles\"], \"image_name\": \"K04.png\", \"description\": [\"Reach towards a wall and place one foot as far from the wall as is comfortable. Make sure that both toes are pointing forward  and  your  heels  are  on  the  ground.  Bend  your  back  knee  and  lean towards the wall.\"]}, \"Lying Leg Resting Buttocks Stretch\": {\"url\": \"None\", \"body_part\": [\"hips\", \"buttocks\", \"glutes\", \"pelvis\"], \"image_name\": \"E13.png\", \"description\": [\"Lie on your back and slightly bend one leg.  Raise  your  other  foot  up  onto  your  bent  leg  and  rest  it  on  your  thigh.\\\\nThen reach forward, holding onto your knee and pull towards you.\"]}, \"Sitting Feet-together Adductor Stretch\": {\"url\": \"None\", \"body_part\": [\"adductors\"], \"image_name\": \"H01.png\", \"description\": [\"Sit with the soles of your feet together and bring your feet towards your groin. Hold onto your ankles and push your knees toward the ground with your elbows. Keep your back straight.\"]}, \"Kneeling Reach-around Stretch\": {\"url\": \"None\", \"body_part\": [\"back\", \"sides\", \"lower-back\"], \"image_name\": \"D20.png\", \"description\": [\"Kneel  on  your  hands  and  knees  and  then take  one  hand  and  reach  around  towards  your  ankle.  Keep  your  back parallel to the ground.\"]}, \"Reach Forward Upper Back Stretch\": {\"url\": \"None\", \"body_part\": [\"back\", \"sides\", \"lower-back\"], \"image_name\": \"D01.png\", \"description\": [\"Stand with your arms out in front and your  hands  crossed  over,  then  push  your  hands  forward  as  far  as  possible and let your head fall forward.\"]}, \"Assisted Triceps Stretch\": {\"url\": \"None\", \"body_part\": [\"arms\", \"chest\"], \"image_name\": \"B10.png\", \"description\": [\"Stand with one hand behind your neck and your elbow  pointing  upwards.  Then  use  your  other  hand  (or  a  rope  or  towel)  to pull your elbow down.\"]}, \"Finger  Stretch\": {\"url\": \"None\", \"body_part\": [\"arms\", \"chest\"], \"image_name\": \"B14.png\", \"description\": [\"Place  the  tips  of  your  fingers  together  and  push  your palms towards each other.\"]}, \"Lying Quad Stretch\": {\"url\": \"None\", \"body_part\": [\"quads\", \"legs\"], \"image_name\": \"F04.png\", \"description\": [\"Lie face down, reach back with one hand and pull one foot up behind your buttocks.\"]}, \"Neck Extension Stretch\": {\"url\": \"None\", \"body_part\": [\"neck\", \"shoulders\"], \"image_name\": \"A05.png\", \"description\": [\"Stand upright and lift your head, looking upwards as if trying to point up with your chin. Relax your shoulders and keep your hands by your side.\"]}, \"Sitting Foot-to-chest Buttocks Stretch\": {\"url\": \"None\", \"body_part\": [\"hips\", \"buttocks\", \"glutes\", \"pelvis\"], \"image_name\": \"E10.png\", \"description\": [\"Sit  with  one  leg  straight,  hold  onto your other ankle and then pull it directly towards your chest.\"]}, \"Squatting Leg-out Adductor Stretch\": {\"url\": \"None\", \"body_part\": [\"adductors\"], \"image_name\": \"H05.png\", \"description\": [\"Stand with  your feet wide  apart. Keep one leg straight and your toes pointing forward while bending the other leg and turning your toes out to the side. Lower your groin towards the ground and rest your hands on your bent knee or the ground.\"]}, \"Parallel Arm Shoulder Stretch\": {\"url\": \"None\", \"body_part\": [\"neck\", \"shoulders\"], \"image_name\": \"A08.png\", \"description\": [\"Stand upright and place one arm across your body.  Keep  your  arm  parallel  to  the  ground  and  pull  your  elbow  towards your body.\"]}, \"Back Arching Stomach Stretch\": {\"url\": \"None\", \"body_part\": [\"stomach\", \"abs\"], \"image_name\": \"C06.png\", \"description\": [\"Sit on a Swiss ball and slowly roll  the ball forward  while  leaning  back.  Allow  your  back  and  shoulders  to  rest  on  the ball and your arms to hang to each side.\"]}, \"Lying Cross-over Knee Pull-down Stretch\": {\"url\": \"None\", \"body_part\": [\"hips\", \"buttocks\", \"glutes\", \"pelvis\"], \"image_name\": \"E01.png\", \"description\": [\"Lie on your back and cross one leg over  the  other.  Bring  your  foot  up  to  your  opposite  knee  and  with  your opposite arm pull your raised knee down towards the ground.\"]}, \"Standing Leg-up Bent Knee Hamstring Stretch\": {\"url\": \"None\", \"body_part\": [\"hamstrings\"], \"image_name\": \"G12.png\", \"description\": [\"Stand with one foot raised onto a  chair  or  an  object.  Bend  your  knee  and  let  your  heel  drop  off  the  edge  of the object. Keep your back straight and move your chest towards your raised knee.\"]}, \"Standing Leg-up Hamstring Stretch\": {\"url\": \"None\", \"body_part\": [\"hamstrings\"], \"image_name\": \"G04.png\", \"description\": [\"Stand upright and raise one leg on to an object. Keep that leg straight and  point your toes upwards. Keep your back straight and lean your upper body forward.\"]}, \"Neck Protraction  Stretch\": {\"url\": \"None\", \"body_part\": [\"neck\", \"shoulders\"], \"image_name\": \"A06.png\", \"description\": [\"While  looking  straight  ahead,  push  your  head forward by sticking your chin out.\"]}, \"Single Lean-back Quad Stretch\": {\"url\": \"None\", \"body_part\": [\"quads\", \"legs\"], \"image_name\": \"F06.png\", \"description\": [\"Sit on the ground, bend one knee and place that foot next to your buttocks. Then slowly lean backwards.\"]}, \"Forward Flexion Neck Stretch\": {\"url\": \"None\", \"body_part\": [\"neck\", \"shoulders\"], \"image_name\": \"A03.png\", \"description\": [\"Stand upright and let your chin fall forward towards your chest. Relax your shoulders and keep your hands by your side.\"]}, \"Fingers-down Wrist Stretch\": {\"url\": \"None\", \"body_part\": [\"arms\", \"chest\"], \"image_name\": \"B16.png\", \"description\": [\"Hold  on  to  your  fingers  and  straighten  your arm, then pull your fingers towards your body.\"]}, \"Kneeling Reach Forward Stretch\": {\"url\": \"None\", \"body_part\": [\"back\", \"sides\", \"lower-back\"], \"image_name\": \"D10.png\", \"description\": [\"Kneel  on  the  ground  and  reach  forward with  your  hands.  Let  your  head  fall  forward  and  push  your  buttocks  back towards your feet.\"]}, \"Lying Knee Roll-over Stretch\": {\"url\": \"None\", \"body_part\": [\"back\", \"sides\", \"lower-back\"], \"image_name\": \"D17.png\", \"description\": [\"While  lying  on  your  back,  bend  your  knees and  let  them  fall  to  one  side.  Keep  your  arms  out  to  the  side  and  let  your back and hips rotate with your knees.\"]}, \"Lying Double Knee-to-chest Stretch\": {\"url\": \"None\", \"body_part\": [\"back\", \"sides\", \"lower-back\"], \"image_name\": \"D09.png\", \"description\": [\"Lie on your back and use your hands to bring both knees into your chest.\"]}, \"Standing Leg Resting Hip Stretch\": {\"url\": \"None\", \"body_part\": [\"hips\", \"buttocks\", \"glutes\", \"pelvis\"], \"image_name\": \"E04.png\", \"description\": [\"Stand beside a chair or table for balance, bend one leg and place your other ankle on to your bent knee. Slowly lower yourself towards the ground.\"]}, \"Standing Lean-back Stomach Stretch\": {\"url\": \"None\", \"body_part\": [\"stomach\", \"abs\"], \"image_name\": \"C04.png\", \"description\": [\"Stand upright with your feet shoulder width   apart  and  place   your  hands  on   your  buttocks  for  support.   Look upwards and slowly lean backwards at the waist.\"]}, \"Squatting Achilles Stretch\": {\"url\": \"None\", \"body_part\": [\"calves\", \"legs\", \"achilles\"], \"image_name\": \"K08.png\", \"description\": [\"Stand with your feet shoulder width apart. Then bend your legs and lower your body into a sitting position. Place your hands out in front for balance.\"]}, \"Ankle Rotation Stretch\": {\"url\": \"None\", \"body_part\": [\"shins\", \"ankles\", \"feet\", \"toes\"], \"image_name\": \"L06.png\", \"description\": [\"Raise one foot off the ground and slowly rotate your foot and ankle in all directions.\"]}, \"Sitting Knee-up Rotation Stretch\": {\"url\": \"None\", \"body_part\": [\"back\", \"sides\", \"lower-back\"], \"image_name\": \"D18.png\", \"description\": [\"Sit with one leg straight and the other leg crossed  over  your  knee.  Turn  your  shoulders  and  put  your  arm  onto  your raised knee to help rotate your shoulders and back.\"]}, \"Sitting Neck Flexion Stretch\": {\"url\": \"None\", \"body_part\": [\"neck\", \"shoulders\"], \"image_name\": \"A07.png\", \"description\": [\"While sitting on a chair, cross your arms and hold onto  the  chair between your legs. Let your head fall forward and then lean backwards.\"]}, \"Bent-over Chest Stretch\": {\"url\": \"None\", \"body_part\": [\"arms\", \"chest\"], \"image_name\": \"B07.png\", \"description\": [\"Face a wall and place both hands on the wall just above   your   head.   Slowly   lower   your   shoulders   as   if   moving   your   chin towards the ground.\"]}, \"Double  Kneeling  Shin  Stretch\": {\"url\": \"None\", \"body_part\": [\"shins\", \"ankles\", \"feet\", \"toes\"], \"image_name\": \"L04.png\", \"description\": [\"Sit  with  your  knees  and  feet  flat  on  the ground.  Sit  back  on  your  ankles  and  keep  your  knees  together.  Place  your hands  next  to  your  knees  and  slowly  lean  backwards  while  raising  your knees off the ground.\"]}, \"Standing Wide Knees Adductor Stretch\": {\"url\": \"None\", \"body_part\": [\"adductors\"], \"image_name\": \"H02.png\", \"description\": [\"Stand with your feet wide apart and your toes pointing diagonally outwards, then bend your knees, lean forward and use your hands to push your knees outwards.\"]}, \"Sitting  Bent Knee Toe-pull Hamstring  Stretch\": {\"url\": \"None\", \"body_part\": [\"hamstrings\"], \"image_name\": \"G14.png\", \"description\": [\"Sit  on  the  ground  with  your knees slightly bent. Hold onto your toes with your hands and pull your toes towards your body. Keep your back straight and lean forward.\"]}, \"Leaning Abductor Stretch\": {\"url\": \"None\", \"body_part\": [\"abs\", \"abductors\"], \"image_name\": \"I03.png\", \"description\": [\"While standing next to a pole, or door jam, hold onto  the  pole  with  one  hand.  Keep  your  feet  together,  and  lean  your  hips away from the pole. Keep your outside leg straight and bend your inside leg slightly.\"]}, \"Bent Arm Shoulder Stretch\": {\"url\": \"None\", \"body_part\": [\"neck\", \"shoulders\"], \"image_name\": \"A09.png\", \"description\": [\"Stand  upright  and  place  one  arm  across  your body. Bend your arm at 90 degrees and pull your elbow towards your body.\"]}, \"Standing  Heel-back  Achilles  Stretch\": {\"url\": \"None\", \"body_part\": [\"calves\", \"legs\", \"achilles\"], \"image_name\": \"K03.png\", \"description\": [\"Stand  upright  and  take   one   step backwards. Bend your back knee and push your heel towards the ground.\"]}, \"Elbow-out Rotator Stretch\": {\"url\": \"None\", \"body_part\": [\"neck\", \"shoulders\"], \"image_name\": \"A13.png\", \"description\": [\"Stand with your hand behind the middle of your back  and  your  elbow  pointing  out.  Reach  over  with  your  other  hand  and gently pull your elbow forward.\"]}, \"Lying Knee-to-chest Stretch\": {\"url\": \"None\", \"body_part\": [\"back\", \"sides\", \"lower-back\"], \"image_name\": \"D08.png\", \"description\": [\"Lie on your back and keep one leg flat on the ground. Use your hands to bring your other knee into your chest.\"]}, \"Standing Toe-up Achilles Stretch\": {\"url\": \"None\", \"body_part\": [\"calves\", \"legs\", \"achilles\"], \"image_name\": \"K01.png\", \"description\": [\"Stand  upright  and  place  the  ball  of  your foot onto a step or raised object. Bend your knee and lean forward.\"]}, \"Lying Leg Cross-over Stretch\": {\"url\": \"None\", \"body_part\": [\"back\", \"sides\", \"lower-back\"], \"image_name\": \"D16.png\", \"description\": [\"Lie  on your back and cross one leg over the other. Keep your arms out to the side and both legs straight. Let your back and hips rotate with your leg.\"]}, \"Sitting Reach-forward Hamstring Stretch\": {\"url\": \"None\", \"body_part\": [\"hamstrings\"], \"image_name\": \"G01.png\", \"description\": [\"Sit  with  both  legs  straight  out  in front, or at 45 degrees apart. Keep your toes pointing straight up, make sure your back is straight and then reach forward.\"]}, \"Sitting Feet-together Reach Forward Stretch\": {\"url\": \"None\", \"body_part\": [\"hips\", \"buttocks\", \"glutes\", \"pelvis\"], \"image_name\": \"E08.png\", \"description\": [\"Sit  with  the  soles  of  your  feet together and your knees out, then gently reach forward.\"]}, \"Lying Swiss-ball Abductor Stretch\": {\"url\": \"None\", \"body_part\": [\"abs\", \"abductors\"], \"image_name\": \"I06.png\", \"description\": [\"Lean  on  your  side  on  a  Swiss  ball  and place  one  leg  straight  out  to  the  side.  Bring  your  top  leg  up  to  your  other knee and push your hip towards the ground.\"]}, \"Front Cross-over Shin Stretch\": {\"url\": \"None\", \"body_part\": [\"shins\", \"ankles\", \"feet\", \"toes\"], \"image_name\": \"L02.png\", \"description\": [\"Stand upright and place the top of your toes on  the  ground  in  front  of  your  other  foot.  Slowly  bend  your  other  knee  to force your ankle to the ground.\"]}, \"Kneeling Back-slump Stretch\": {\"url\": \"None\", \"body_part\": [\"back\", \"sides\", \"lower-back\"], \"image_name\": \"D12.png\", \"description\": [\"Kneel on your hands and knees. Look up and let your back slump downwards.\"]}, \"Standing Wide-leg Adductor Stretch\": {\"url\": \"None\", \"body_part\": [\"adductors\"], \"image_name\": \"H08.png\", \"description\": [\"Start  by  standing  with  your  feet  wide apart and your toes pointing forward. Then lean forward and reach towards the ground.\"]}, \"Sitting knee-up Extended Rotation Stretch\": {\"url\": \"None\", \"body_part\": [\"back\", \"sides\", \"lower-back\"], \"image_name\": \"D19.png\", \"description\": [\"Sit with one leg crossed under the other  and  the  other  foot  crossed  over  your  knee,  then  turn  your  shoulders and  put  your  arm  onto  your  raised  knee  to  help  rotate  your  shoulders  and back.\"]}, \"Reaching Lateral Side Stretch\": {\"url\": \"None\", \"body_part\": [\"back\", \"sides\", \"lower-back\"], \"image_name\": \"D22.png\", \"description\": [\"Stand  with  your  feet  shoulder  width  apart, then slowly bend to the  side and reach over the top of your head with your hand. Do not bend forward.\"]}, \"Lying Partner Assisted Hamstring Stretch\": {\"url\": \"None\", \"body_part\": [\"hamstrings\"], \"image_name\": \"G07.png\", \"description\": [\"Lie  on  your  back  and  keep  both legs straight. Have a partner raise one of your legs off the ground and as far back as is comfortable. Make sure your toes are pointing directly backwards.\"]}, \"Standing Leg Tuck Hip Stretch\": {\"url\": \"None\", \"body_part\": [\"hips\", \"buttocks\", \"glutes\", \"pelvis\"], \"image_name\": \"E03.png\", \"description\": [\"Stand beside a chair or table and place the foot  furthest  from  the  object  onto  the  object.  Relax  your  leg,  lean  forward and bend your other leg, lowering yourself towards the ground.\"]}, \"Standing Leg-up Adductor Stretch\": {\"url\": \"None\", \"body_part\": [\"adductors\"], \"image_name\": \"H03.png\", \"description\": [\"Stand  upright  and  place  one  leg  out  to the  side  and your foot up on a raised object. Keep your toes facing forward and slowly move your other leg away from the object.\"]}, \"Crouching Heel-back Achilles Stretch\": {\"url\": \"None\", \"body_part\": [\"calves\", \"legs\", \"achilles\"], \"image_name\": \"K06.png\", \"description\": [\"Stand  upright  and  place  one  foot  in front of the other. Bend your front leg and your back leg and then push your back  heel  towards  the  ground.  Lean  forward  and  place  your  hands  on  the ground in front of you.\"]}, \"Sitting Leg Resting Buttocks Stretch\": {\"url\": \"None\", \"body_part\": [\"hips\", \"buttocks\", \"glutes\", \"pelvis\"], \"image_name\": \"E12.png\", \"description\": [\"Sit  with  one  leg  slightly  bent.  Raise your other foot up onto your raised leg and rest it on your thigh, then slowly reach forward.\"]}, \"Raised Foot Shin Stretch\": {\"url\": \"None\", \"body_part\": [\"shins\", \"ankles\", \"feet\", \"toes\"], \"image_name\": \"L03.png\", \"description\": [\"Stand with your back to a chair. Place the top of your toes onto the chair and then push your ankle downwards.\"]}, \"Kneeling Leg-out Adductor Stretch\": {\"url\": \"None\", \"body_part\": [\"adductors\"], \"image_name\": \"H04.png\", \"description\": [\"Kneel on one knee and place your other leg out to the side with your toes  pointing forward. Rest your hands on the ground and slowly move your foot further out to the side.\"]}, \"Wrap-around Shoulder Stretch\": {\"url\": \"None\", \"body_part\": [\"neck\", \"shoulders\"], \"image_name\": \"A10.png\", \"description\": [\"Stand  upright  and wrap your  arms  around your shoulders as if hugging yourself. Pull your shoulders back.\"]}, \"Partner Assisted Chest Stretch\": {\"url\": \"None\", \"body_part\": [\"arms\", \"chest\"], \"image_name\": \"B02.png\", \"description\": [\"Extend both arms parallel to the ground and have   a   partner   hold   on   to   your   hands,   then   slowly   pull   your   arms backwards.\"]}, \"Above Head Chest Stretch\": {\"url\": \"None\", \"body_part\": [\"arms\", \"chest\"], \"image_name\": \"B01.png\", \"description\": [\"Stand upright and interlock your fingers. Bend your  arms  and  place  them  above  your  head  while  forcing  your  elbows  and hands backwards.\"]}, \"Lying Side Quad Stretch\": {\"url\": \"None\", \"body_part\": [\"quads\", \"legs\"], \"image_name\": \"F05.png\", \"description\": [\"Lie on your side and pull your top leg behind your buttocks. Keep your knees together and push your hips forward.\"]}, \"Lying Abductor Stretch\": {\"url\": \"None\", \"body_part\": [\"abs\", \"abductors\"], \"image_name\": \"I05.png\", \"description\": [\"Lean on your side on the ground and bring your top leg up to your other knee. Push your body up with your arm and keep your hip on the ground.\"]}, \"Sitting Leg Resting Hamstring Stretch\": {\"url\": \"None\", \"body_part\": [\"hamstrings\"], \"image_name\": \"G11.png\", \"description\": [\"Sit with one leg straight out in front and your toes pointing upwards. Cross your other leg over and rest your foot on  your  thigh.  Lean  forward,  keep  your  back  straight  and  reach  for  your toes.\"]}, \"Rotating Stomach Stretch\": {\"url\": \"None\", \"body_part\": [\"stomach\", \"abs\"], \"image_name\": \"C03.png\", \"description\": [\"Lie face down and bring your hands close to your shoulders.  Keep  your  hips  on  the  ground,  look  forward  and  rise  up  by straightening your arms. Then slowly bend one arm and rotate that shoulder towards the ground.\"]}, \"Sitting Side Reach Stretch\": {\"url\": \"None\", \"body_part\": [\"back\", \"sides\", \"lower-back\"], \"image_name\": \"D06.png\", \"description\": [\"Sit with one leg straight out to the side and your toes  pointing  upwards.  Then  bring  your  other  foot  up  to  your  knee  and  let your  head  fall  forward.  Reach  towards  the  outside  of  your  toes  with  both hands.\"]}, \"Standing Toe-up Calf Stretch\": {\"url\": \"None\", \"body_part\": [\"calves\", \"legs\"], \"image_name\": \"J01.png\", \"description\": [\"Stand upright and place  the ball of your foot on a step or raised object. Keep your leg straight and lean towards your toes.\"]}, \"Lying Cross-over Knee Pull-up Stretch\": {\"url\": \"None\", \"body_part\": [\"hips\", \"buttocks\", \"glutes\", \"pelvis\"], \"image_name\": \"E11.png\", \"description\": [\"Lie  on  your  back  and  cross  one  leg over  the  other.  Bring  your  foot  up  to  your  opposite  knee  and  with  your opposite arm pull your raised knee up towards your chest.\"]}, \"Standing  Reach-up  Quad  Stretch\": {\"url\": \"None\", \"body_part\": [\"quads\", \"legs\"], \"image_name\": \"F03.png\", \"description\": [\"Stand  upright  and  take  one  small  step forward. Reach up with both hands, push your hips forward, lean back and then lean away from your back leg.\"]}, \"Crouching Heel-back Calf Stretch\": {\"url\": \"None\", \"body_part\": [\"calves\", \"legs\"], \"image_name\": \"J07.png\", \"description\": [\"Stand upright and place one foot in front of the other. Bend your front leg and keep your back leg straight. Push your heel  to  the  ground  and  lean  forward.  Place  your  hands  on  the  ground  in front of you.\"]}, \"Sitting Rotational Hip Stretch\": {\"url\": \"None\", \"body_part\": [\"hips\", \"buttocks\", \"glutes\", \"pelvis\"], \"image_name\": \"E05.png\", \"description\": [\"Sit  with  one  leg  crossed  and  your  other  leg behind  your  buttocks  then  lean  your  whole  body  towards  the  leg  that  is behind your buttocks.\"]}}'"
      ]
     },
     "execution_count": 44,
     "metadata": {},
     "output_type": "execute_result"
    }
   ],
   "source": [
    "json.dumps(new_ex_dict)"
   ]
  },
  {
   "cell_type": "code",
   "execution_count": null,
   "metadata": {
    "collapsed": true
   },
   "outputs": [],
   "source": []
  }
 ],
 "metadata": {
  "anaconda-cloud": {},
  "kernelspec": {
   "display_name": "Python [Root]",
   "language": "python",
   "name": "Python [Root]"
  },
  "language_info": {
   "codemirror_mode": {
    "name": "ipython",
    "version": 2
   },
   "file_extension": ".py",
   "mimetype": "text/x-python",
   "name": "python",
   "nbconvert_exporter": "python",
   "pygments_lexer": "ipython2",
   "version": "2.7.12"
  }
 },
 "nbformat": 4,
 "nbformat_minor": 0
}
